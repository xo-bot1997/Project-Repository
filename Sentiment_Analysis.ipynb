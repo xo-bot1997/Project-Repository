{
  "nbformat": 4,
  "nbformat_minor": 0,
  "metadata": {
    "colab": {
      "provenance": [],
      "authorship_tag": "ABX9TyN5OT06OSfMOw3LXPKotIue",
      "include_colab_link": true
    },
    "kernelspec": {
      "name": "python3",
      "display_name": "Python 3"
    },
    "language_info": {
      "name": "python"
    }
  },
  "cells": [
    {
      "cell_type": "markdown",
      "metadata": {
        "id": "view-in-github",
        "colab_type": "text"
      },
      "source": [
        "<a href=\"https://colab.research.google.com/github/xo-bot1997/Project-Repository/blob/main/Sentiment_Analysis.ipynb\" target=\"_parent\"><img src=\"https://colab.research.google.com/assets/colab-badge.svg\" alt=\"Open In Colab\"/></a>"
      ]
    },
    {
      "cell_type": "code",
      "execution_count": null,
      "metadata": {
        "colab": {
          "base_uri": "https://localhost:8080/"
        },
        "id": "MdEQo9syoh2C",
        "outputId": "6bf6a1b0-ad39-41de-e749-401b16464fe7"
      },
      "outputs": [
        {
          "output_type": "stream",
          "name": "stderr",
          "text": [
            "[nltk_data] Downloading package punkt to /root/nltk_data...\n",
            "[nltk_data]   Package punkt is already up-to-date!\n",
            "[nltk_data] Downloading package wordnet to /root/nltk_data...\n",
            "[nltk_data]   Package wordnet is already up-to-date!\n",
            "[nltk_data] Downloading package vader_lexicon to /root/nltk_data...\n",
            "[nltk_data]   Package vader_lexicon is already up-to-date!\n",
            "[nltk_data] Downloading package stopwords to /root/nltk_data...\n",
            "[nltk_data]   Unzipping corpora/stopwords.zip.\n"
          ]
        }
      ],
      "source": [
        "import pandas as pd\n",
        "import nltk\n",
        "from nltk.corpus import stopwords\n",
        "from nltk.stem import WordNetLemmatizer\n",
        "from nltk.tokenize import word_tokenize\n",
        "import re\n",
        "from nltk.sentiment.vader import SentimentIntensityAnalyzer\n",
        "from wordcloud import WordCloud\n",
        "import matplotlib.pyplot as plt\n",
        "from sklearn.feature_extraction.text import CountVectorizer\n",
        "from sklearn.decomposition import LatentDirichletAllocation\n",
        "\n",
        "# Download the stopwords list\n",
        "nltk.download('punkt')\n",
        "nltk.download('wordnet')\n",
        "nltk.download('vader_lexicon')\n",
        "nltk.download('stopwords')\n",
        "\n",
        "# Read the CSV file into a pandas DataFrame\n",
        "df = pd.read_csv('table_ASRS.csv')\n",
        "\n",
        "# Preprocessing function\n",
        "def preprocess_text(text):\n",
        "    # Convert text to lowercase\n",
        "    text = text.lower()\n",
        "\n",
        "    # Fix abbreviations\n",
        "    words = text.split()\n",
        "    fixed_words = [abbreviations.get(word.lower(), word) for word in words]\n",
        "    fixed_text = ' '.join(fixed_words)\n",
        "\n",
        "    # Remove numbers and special characters\n",
        "    text = re.sub(r'\\d+', '', fixed_text)\n",
        "    text = re.sub(r'[^\\w\\s]', '', text)\n",
        "\n",
        "    # Tokenize the text\n",
        "    tokens = word_tokenize(text)\n",
        "\n",
        "    # Remove stopwords\n",
        "    stop_words = set(stopwords.words('english'))\n",
        "    tokens = [token for token in tokens if token not in stop_words]\n",
        "\n",
        "    # Lemmatize the tokens\n",
        "    lemmatizer = WordNetLemmatizer()\n",
        "    tokens = [lemmatizer.lemmatize(token) for token in tokens]\n",
        "\n",
        "    # Join the tokens back into a single string\n",
        "    processed_text = ' '.join(tokens)\n",
        "\n",
        "    return processed_text\n",
        "\n",
        "# Predefined dictionary of abbreviations and their corresponding expansions\n",
        "abbreviations = {\n",
        "    'abbr': 'abbreviation',\n",
        "    'exp': 'expansion',\n",
        "    'acft': 'aircraft',\n",
        "    'eng': 'engine',\n",
        "    'flt': 'flight',\n",
        "    'rptr': 'reporter',\n",
        "    'capt': 'captain',\n",
        "    'lndg': 'landing',\n",
        "    'rwy': 'runway',\n",
        "    'emer': 'emergency',\n",
        "    'kt': 'knot',\n",
        "    'tkof': 'takeoff',\n",
        "    'gnd': 'ground',\n",
        "    'apch': 'approach',\n",
        "    'chk': 'check',\n",
        "    'pwr': 'power',\n",
        "    'evac': 'evacuation',\n",
        "    'hyd': 'hydraulic',\n",
        "    'mech': 'mechanic'\n",
        "}\n",
        "\n",
        "# Apply preprocessing to the 'Text' column and store the result in a new column 'processed_text'\n",
        "df['processed_text'] = df['Text'].apply(preprocess_text)\n",
        "\n",
        "# Initialize the VADER sentiment analyzer\n",
        "sid = SentimentIntensityAnalyzer()\n",
        "\n",
        "# Save the updated DataFrame to a new CSV file\n",
        "df.to_csv('preprocessed_table_ASRS.csv', index=False)\n",
        "\n"
      ]
    },
    {
      "cell_type": "code",
      "source": [
        "nltk.download('vader_lexicon')\n",
        "# Initialize the VADER sentiment analyzer\n",
        "sid = SentimentIntensityAnalyzer()\n",
        "\n",
        "# Perform sentiment analysis on the preprocessed text\n",
        "df['sentiment_scores'] = df['processed_text'].apply(lambda x: sid.polarity_scores(x))\n",
        "\n",
        "# Extract the compound sentiment score from the sentiment scores dictionary\n",
        "df['compound_score'] = df['sentiment_scores'].apply(lambda x: x['compound'])\n",
        "\n",
        "# Classify the sentiment based on the compound score\n",
        "df['sentiment'] = df['compound_score'].apply(lambda x: 'Positive' if x > 0 else 'Negative' if x < 0 else 'Neutral')\n",
        "\n",
        "# Save the sentiment analysis results to a new CSV file\n",
        "df.to_csv('sentiment_analysis_results.csv', index=False)"
      ],
      "metadata": {
        "colab": {
          "base_uri": "https://localhost:8080/"
        },
        "id": "XSTRoRILtsFP",
        "outputId": "84f2a3e2-93da-48d3-9776-7d7a17ccfb1d"
      },
      "execution_count": null,
      "outputs": [
        {
          "output_type": "stream",
          "name": "stderr",
          "text": [
            "[nltk_data] Downloading package vader_lexicon to /root/nltk_data...\n",
            "[nltk_data]   Package vader_lexicon is already up-to-date!\n"
          ]
        }
      ]
    },
    {
      "cell_type": "code",
      "source": [
        "# Count the number of positive, negative, and neutral sentiments\n",
        "sentiment_counts = df['sentiment'].value_counts()\n",
        "\n",
        "# Print the sentiment counts\n",
        "print(\"Sentiment Counts:\")\n",
        "print(sentiment_counts)\n",
        "\n",
        "\n"
      ],
      "metadata": {
        "colab": {
          "base_uri": "https://localhost:8080/"
        },
        "id": "nZymTz8zuwqE",
        "outputId": "4a24c334-e336-40f4-ad28-ed8c88bd89c9"
      },
      "execution_count": null,
      "outputs": [
        {
          "output_type": "stream",
          "name": "stdout",
          "text": [
            "Sentiment Counts:\n",
            "Negative    10546\n",
            "Positive    10059\n",
            "Neutral       914\n",
            "Name: sentiment, dtype: int64\n"
          ]
        }
      ]
    },
    {
      "cell_type": "code",
      "source": [
        "\n",
        "# Determine the sentiment dominance\n",
        "dominant_sentiment = sentiment_counts.idxmax()\n",
        "print(\"Dominant Sentiment: \", dominant_sentiment)\n",
        "\n"
      ],
      "metadata": {
        "colab": {
          "base_uri": "https://localhost:8080/"
        },
        "id": "5OZo9Yh5u2ys",
        "outputId": "fa513076-e252-4ac4-8556-e0ac914bfbd8"
      },
      "execution_count": null,
      "outputs": [
        {
          "output_type": "stream",
          "name": "stdout",
          "text": [
            "Dominant Sentiment:  Negative\n"
          ]
        }
      ]
    },
    {
      "cell_type": "code",
      "source": [
        "\n",
        "# Calculate the percentage of each sentiment category\n",
        "sentiment_percentages = sentiment_counts / len(df) * 100\n",
        "\n",
        "# Print the sentiment percentages\n",
        "print(\"\\nSentiment Percentages:\")\n",
        "print(sentiment_percentages)\n"
      ],
      "metadata": {
        "colab": {
          "base_uri": "https://localhost:8080/"
        },
        "id": "05nt1Qicu9k0",
        "outputId": "a8e73836-b689-499f-8f84-3a38d81af9b1"
      },
      "execution_count": null,
      "outputs": [
        {
          "output_type": "stream",
          "name": "stdout",
          "text": [
            "\n",
            "Sentiment Percentages:\n",
            "Negative    49.007854\n",
            "Positive    46.744737\n",
            "Neutral      4.247409\n",
            "Name: sentiment, dtype: float64\n"
          ]
        }
      ]
    },
    {
      "cell_type": "code",
      "source": [
        "\n",
        "\n",
        "# Plot the sentiment distribution\n",
        "plt.figure(figsize=(6, 4))\n",
        "plt.bar(sentiment_counts.index, sentiment_counts.values)\n",
        "plt.title('Sentiment Distribution')\n",
        "plt.xlabel('Sentiment')\n",
        "plt.ylabel('Count')\n",
        "plt.show()\n"
      ],
      "metadata": {
        "colab": {
          "base_uri": "https://localhost:8080/",
          "height": 410
        },
        "id": "b8qtt7CvvHQm",
        "outputId": "6af0f180-7e02-4194-9cb1-c9001eb55a83"
      },
      "execution_count": null,
      "outputs": [
        {
          "output_type": "display_data",
          "data": {
            "text/plain": [
              "<Figure size 600x400 with 1 Axes>"
            ],
            "image/png": "[encoded data removed]"
          },
          "metadata": {}
        }
      ]
    },
    {
      "cell_type": "code",
      "source": [
        "\n",
        "\n",
        "# Read the preprocessed CSV file\n",
        "df = pd.read_csv('preprocessed_table_ASRS.csv')\n",
        "\n",
        "# Create a CountVectorizer\n",
        "vectorizer = CountVectorizer(max_features=1000)  # Adjust the number of features as desired\n",
        "\n",
        "# Generate the document-term matrix\n",
        "dtm = vectorizer.fit_transform(df['processed_text'])\n",
        "\n",
        "# Instantiate and fit the LDA model\n",
        "num_topics = 5\n",
        "lda = LatentDirichletAllocation(n_components=num_topics, random_state=42)\n",
        "lda.fit(dtm)\n",
        "\n",
        "# Get the top words for each topic\n",
        "feature_names = vectorizer.get_feature_names_out()\n",
        "top_words = []\n",
        "for topic_idx, topic in enumerate(lda.components_):\n",
        "    top_words_indices = topic.argsort()[:-10-1:-1]  # Get the top 10 words\n",
        "    top_words.append([feature_names[i] for i in top_words_indices])\n",
        "\n",
        "# Print the top words for each topic\n",
        "for i, words in enumerate(top_words):\n",
        "    print(f'Topic {i+1}:')\n",
        "    print(', '.join(words))\n",
        "    print()\n",
        "\n",
        "# Assign the topic labels to the DataFrame\n",
        "df['topic_label'] = lda.transform(dtm).argmax(axis=1)\n",
        "\n",
        "# Save the updated DataFrame to a new CSV file\n",
        "df.to_csv('topic_labeled_table_ASRS.csv', index=False)\n"
      ],
      "metadata": {
        "colab": {
          "base_uri": "https://localhost:8080/"
        },
        "id": "69eLwEclVriT",
        "outputId": "6e86bdd3-9e1a-44bd-a268-ffea3d868471"
      },
      "execution_count": null,
      "outputs": [
        {
          "output_type": "stream",
          "name": "stdout",
          "text": [
            "Topic 1:\n",
            "runway, aircraft, taxiway, clear, hold, taxi, tower, short, turn, land\n",
            "\n",
            "Topic 2:\n",
            "aircraft, maintain, report, flight, check, engine, number, say, state, would\n",
            "\n",
            "Topic 3:\n",
            "airport, approach, flight, fly, call, would, mile, south, control, land\n",
            "\n",
            "Topic 4:\n",
            "foot, aircraft, descend, climb, turn, control, degree, flightlevel, clear, altitude\n",
            "\n",
            "Topic 5:\n",
            "land, passenger, flightattendant, aircraft, runway, airport, left, right, captain, report\n",
            "\n"
          ]
        }
      ]
    }
  ]
}